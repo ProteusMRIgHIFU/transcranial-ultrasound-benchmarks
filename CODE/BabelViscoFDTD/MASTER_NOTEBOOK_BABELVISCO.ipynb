{
 "cells": [
  {
   "cell_type": "code",
   "execution_count": null,
   "metadata": {
    "hideCode": false,
    "hidePrompt": false
   },
   "outputs": [],
   "source": [
    "%matplotlib inline\n",
    "import numpy as np\n",
    "import json\n",
    "import CoreDefsFunctions\n",
    "from IPython.display import Markdown as md\n",
    "import gc\n",
    "with open('InputParam.json','r') as f:\n",
    "    InputParam=json.load(f)\n",
    "TESTNAME=InputParam['TESTNAME']\n",
    "GPUName=InputParam['GPUName']\n",
    "COMPUTING_BACKEND = InputParam['COMPUTING_BACKEND']\n",
    "OutputPath= InputParam['OutputPath']\n",
    "RasterInputPath=InputParam['RasterInputPath']"
   ]
  },
  {
   "cell_type": "raw",
   "metadata": {},
   "source": [
    "Library for ITRUSST intercomparison effort with BabelViscoFDTD\n",
    "https://github.com/ProteusMRIgHIFU/BabelViscoFDTD\n",
    "\n",
    "Samuel Pichardo, Ph.D\n",
    "Assistant Professor\n",
    "Radiology and Clinical Neurosciences, Hotchkiss Brain Institute\n",
    "Cumming School of Medicine,\n",
    "University of Calgary\n",
    "samuel.pichardo@ucalgary.ca\n",
    "www.neurofus.ca"
   ]
  },
  {
   "cell_type": "code",
   "execution_count": null,
   "metadata": {},
   "outputs": [],
   "source": [
    "md('# '+ TESTNAME)"
   ]
  },
  {
   "cell_type": "markdown",
   "metadata": {
    "hideCode": false,
    "hidePrompt": false
   },
   "source": [
    "# ITRUSST planning bechmarking\n",
    "\n",
    "Acoustic source refined using **k-Wave**'s kArray\n",
    "\n",
    "### Overview of model\n",
    "Item  | value\n",
    "---- | ----\n",
    "Name of model | BabelviscoFDTD\n",
    "Governing equations | Viscoelastic \n",
    "Details of model | FDTD, attenuation losses with memory variables, pressure maps calculated as byproduct\n",
    "Reference | Pichardo *et al.* Physics in Medicine & Biology, 62(17), p.6938.\n",
    "Implementaion | https://github.com/ProteusMRIgHIFU/BabelViscoFDTD\n",
    "\n"
   ]
  },
  {
   "cell_type": "markdown",
   "metadata": {
    "hideCode": false,
    "hidePrompt": false
   },
   "source": [
    "## Step 1 - Initialization and summary\n",
    "\n"
   ]
  },
  {
   "cell_type": "code",
   "execution_count": null,
   "metadata": {
    "hideCode": false,
    "hidePrompt": false
   },
   "outputs": [],
   "source": [
    "SIM=CoreDefsFunctions.ITRUSST_Simulations(TESTNAME=TESTNAME,\n",
    "                                          RasterInputPath=RasterInputPath,\n",
    "                                          OutputPath=OutputPath)"
   ]
  },
  {
   "cell_type": "code",
   "execution_count": null,
   "metadata": {},
   "outputs": [],
   "source": [
    "md(SIM.GetSummary())"
   ]
  },
  {
   "cell_type": "code",
   "execution_count": null,
   "metadata": {
    "hideCode": false,
    "hidePrompt": false
   },
   "outputs": [],
   "source": [
    "SIM.Step1_InitializeConditions()"
   ]
  },
  {
   "cell_type": "code",
   "execution_count": null,
   "metadata": {
    "hideCode": false,
    "hidePrompt": false
   },
   "outputs": [],
   "source": [
    "md(SIM.OutPutConditions())"
   ]
  },
  {
   "cell_type": "markdown",
   "metadata": {},
   "source": [
    "## Step 2 - Prepare materials"
   ]
  },
  {
   "cell_type": "code",
   "execution_count": null,
   "metadata": {
    "hideCode": false,
    "hidePrompt": false
   },
   "outputs": [],
   "source": [
    "SIM.Step2_PrepMaterials()\n",
    "gc.collect()"
   ]
  },
  {
   "cell_type": "markdown",
   "metadata": {
    "hideCode": false,
    "hidePrompt": false
   },
   "source": [
    "## Step 3 -Prepare source"
   ]
  },
  {
   "cell_type": "code",
   "execution_count": null,
   "metadata": {
    "hideCode": false,
    "hidePrompt": false
   },
   "outputs": [],
   "source": [
    "SIM.Step3_PrepareSource()"
   ]
  },
  {
   "cell_type": "markdown",
   "metadata": {
    "hideCode": false,
    "hidePrompt": false
   },
   "source": [
    "## Step 4 - Create signal and source mask"
   ]
  },
  {
   "cell_type": "code",
   "execution_count": null,
   "metadata": {
    "hideCode": false,
    "hidePrompt": false
   },
   "outputs": [],
   "source": [
    "SIM.Step4_CreateSourceSignal_and_Sensor()"
   ]
  },
  {
   "cell_type": "markdown",
   "metadata": {
    "hideCode": false,
    "hidePrompt": false
   },
   "source": [
    "## Step 5 - Run simulation"
   ]
  },
  {
   "cell_type": "code",
   "execution_count": null,
   "metadata": {},
   "outputs": [],
   "source": [
    "SIM.Step5_Run_Simulation(GPUName=GPUName,COMPUTING_BACKEND=COMPUTING_BACKEND)\n",
    "gc.collect()"
   ]
  },
  {
   "cell_type": "markdown",
   "metadata": {
    "hideCode": false,
    "hidePrompt": false
   },
   "source": [
    "## Step 6 - Extract phase data"
   ]
  },
  {
   "cell_type": "code",
   "execution_count": null,
   "metadata": {},
   "outputs": [],
   "source": [
    "SIM.Step6_ExtractPhaseData()\n",
    "gc.collect()"
   ]
  },
  {
   "cell_type": "markdown",
   "metadata": {
    "hideCode": false,
    "hidePrompt": false
   },
   "source": [
    "## Step 7 - Prepare data and plot"
   ]
  },
  {
   "cell_type": "code",
   "execution_count": null,
   "metadata": {},
   "outputs": [],
   "source": [
    "SIM.Step7_PrepAndPlotData()\n",
    "gc.collect()"
   ]
  },
  {
   "cell_type": "markdown",
   "metadata": {
    "hideCode": false,
    "hidePrompt": false
   },
   "source": [
    "## Step 8 - Resample and Export data"
   ]
  },
  {
   "cell_type": "code",
   "execution_count": null,
   "metadata": {},
   "outputs": [],
   "source": [
    "SIM.Step8_ResamplingAndExport()\n",
    "gc.collect()"
   ]
  },
  {
   "cell_type": "code",
   "execution_count": null,
   "metadata": {},
   "outputs": [],
   "source": []
  }
 ],
 "metadata": {
  "celltoolbar": "Hide code",
  "hide_code_all_hidden": false,
  "kernelspec": {
   "display_name": "Python 3 (ipykernel)",
   "language": "python",
   "name": "python3"
  },
  "language_info": {
   "codemirror_mode": {
    "name": "ipython",
    "version": 3
   },
   "file_extension": ".py",
   "mimetype": "text/x-python",
   "name": "python",
   "nbconvert_exporter": "python",
   "pygments_lexer": "ipython3",
   "version": "3.8.12"
  },
  "metadata": {
   "interpreter": {
    "hash": "678daae175fc2c9769e92312ccf995f5035685dd6bbfddda5c1e541314b7fa9a"
   }
  }
 },
 "nbformat": 4,
 "nbformat_minor": 4
}
